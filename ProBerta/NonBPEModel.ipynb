{
 "cells": [
  {
   "cell_type": "code",
   "execution_count": 8,
   "id": "068aa239",
   "metadata": {},
   "outputs": [],
   "source": [
    "from transformers import RobertaTokenizer\n",
    "import os\n",
    "from transformers import RobertaConfig\n",
    "from transformers import EarlyStoppingCallback\n",
    "from transformers.integrations import TensorBoardCallback\n",
    "from transformers import RobertaForMaskedLM\n",
    "from datasets import load_dataset\n",
    "from datasets import load_from_disk\n",
    "from datasets import Dataset\n",
    "from transformers import DataCollatorForLanguageModeling\n",
    "from transformers import Trainer, TrainingArguments\n",
    "import sys\n",
    "import datasets"
   ]
  },
  {
   "cell_type": "code",
   "execution_count": 9,
   "id": "b2308920",
   "metadata": {},
   "outputs": [],
   "source": [
    "max_length = 1024\n",
    "vocab_size = 30"
   ]
  },
  {
   "cell_type": "code",
   "execution_count": 10,
   "id": "d7b90b7c",
   "metadata": {},
   "outputs": [],
   "source": [
    "tokenized_train_dataset = load_from_disk('../Datasets/tokenized_train_dataset')\n",
    "tokenized_validation_dataset = load_from_disk('../Datasets/tokenized_validation_dataset')\n",
    "tokenized_train_dataset.set_format('torch', columns=['input_ids', 'attention_mask', 'text'])\n",
    "tokenized_validation_dataset.set_format('torch', columns=['input_ids', 'attention_mask', 'text'])"
   ]
  },
  {
   "cell_type": "code",
   "execution_count": 11,
   "id": "ec114940",
   "metadata": {},
   "outputs": [],
   "source": [
    "config = RobertaConfig(\n",
    "    vocab_size=vocab_size,\n",
    "    max_position_embeddings=max_length + 2,\n",
    "    num_attention_heads=12,\n",
    "    num_hidden_layers=6,\n",
    "    type_vocab_size=1,\n",
    ")"
   ]
  },
  {
   "cell_type": "code",
   "execution_count": 12,
   "id": "30bcde4f",
   "metadata": {},
   "outputs": [],
   "source": [
    "config = RobertaConfig(\n",
    "    vocab_size=vocab_size,\n",
    "    max_position_embeddings=max_length + 2,\n",
    "    num_attention_heads=12,\n",
    "    num_hidden_layers=6\n",
    ")"
   ]
  },
  {
   "cell_type": "code",
   "execution_count": 13,
   "id": "64d9dce0",
   "metadata": {},
   "outputs": [],
   "source": [
    "tokenizer = BertTokenizer.from_pretrained(\"../models/Dumberta\", do_lower_case=False )\n",
    "model = RobertaForMaskedLM(config=config)"
   ]
  },
  {
   "cell_type": "code",
   "execution_count": null,
   "id": "9d23ba43",
   "metadata": {},
   "outputs": [],
   "source": [
    "data_collator = DataCollatorForLanguageModeling(\n",
    "    tokenizer=tokenizer, mlm=True, mlm_probability=0.15\n",
    ")"
   ]
  },
  {
   "cell_type": "code",
   "execution_count": null,
   "id": "d293e64a",
   "metadata": {},
   "outputs": [],
   "source": [
    "training_args = TrainingArguments(\n",
    "    output_dir=\"../models/Dumberta\",\n",
    "    overwrite_output_dir=False,\n",
    "    num_train_epochs=200,\n",
    "    per_device_train_batch_size=60,\n",
    "    eval_steps=10_000,\n",
    "    evaluation_strategy=\"steps\",\n",
    "    metric_for_best_model=\"loss\",\n",
    "    save_steps=500,\n",
    "    save_total_limit=100,\n",
    "    prediction_loss_only=True,\n",
    "    load_best_model_at_end=True,\n",
    "    fp16=True,\n",
    "    logging_dir=\"../ModelLogs/Dumberta\"\n",
    "\n",
    ")"
   ]
  },
  {
   "cell_type": "code",
   "execution_count": null,
   "id": "d35779c5",
   "metadata": {},
   "outputs": [],
   "source": [
    "stop_callback = EarlyStoppingCallback(\n",
    "    early_stopping_patience=5,\n",
    "    early_stopping_threshold=0\n",
    ")"
   ]
  },
  {
   "cell_type": "code",
   "execution_count": null,
   "id": "eb224434",
   "metadata": {},
   "outputs": [],
   "source": [
    "trainer = Trainer(\n",
    "    model=model,\n",
    "    args=training_args,\n",
    "    callbacks=[stop_callback],\n",
    "    data_collator=data_collator,\n",
    "    train_dataset=tokenized_train_dataset['train'],\n",
    "    eval_dataset=tokenized_validation_dataset['train']\n",
    ")"
   ]
  },
  {
   "cell_type": "code",
   "execution_count": null,
   "id": "9c54df52",
   "metadata": {},
   "outputs": [],
   "source": [
    "trainer.train(resume_from_checkpoint=True)\n",
    "trainer.save_model(\"../models/probertaTest\")"
   ]
  }
 ],
 "metadata": {
  "kernelspec": {
   "display_name": "Python [conda env:.conda-ProteinTransformers3]",
   "language": "python",
   "name": "conda-env-.conda-ProteinTransformers3-py"
  },
  "language_info": {
   "codemirror_mode": {
    "name": "ipython",
    "version": 3
   },
   "file_extension": ".py",
   "mimetype": "text/x-python",
   "name": "python",
   "nbconvert_exporter": "python",
   "pygments_lexer": "ipython3",
   "version": "3.7.10"
  }
 },
 "nbformat": 4,
 "nbformat_minor": 5
}
